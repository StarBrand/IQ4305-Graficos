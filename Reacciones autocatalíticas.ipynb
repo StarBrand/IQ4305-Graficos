{
 "cells": [
  {
   "cell_type": "markdown",
   "id": "ambient-flesh",
   "metadata": {},
   "source": [
    "# Reacciones autocatalíticas"
   ]
  },
  {
   "cell_type": "code",
   "execution_count": 1,
   "id": "sudden-consortium",
   "metadata": {
    "ExecuteTime": {
     "end_time": "2021-10-30T03:25:09.357656Z",
     "start_time": "2021-10-30T03:25:06.818712Z"
    }
   },
   "outputs": [],
   "source": [
    "import os\n",
    "import numpy as np\n",
    "import matplotlib.pyplot as plt"
   ]
  },
  {
   "cell_type": "code",
   "execution_count": 2,
   "id": "cellular-dealer",
   "metadata": {
    "ExecuteTime": {
     "end_time": "2021-10-30T03:25:22.963685Z",
     "start_time": "2021-10-30T03:25:22.943485Z"
    }
   },
   "outputs": [],
   "source": [
    "FOLDER = \"velocidad_reaccion\""
   ]
  },
  {
   "cell_type": "code",
   "execution_count": 3,
   "id": "neutral-pierce",
   "metadata": {
    "ExecuteTime": {
     "end_time": "2021-10-30T03:25:32.745841Z",
     "start_time": "2021-10-30T03:25:32.731059Z"
    }
   },
   "outputs": [],
   "source": [
    "os.makedirs(FOLDER, exist_ok=True)"
   ]
  },
  {
   "cell_type": "markdown",
   "id": "facial-length",
   "metadata": {},
   "source": [
    "## Reacción autocatalítica simple\n",
    "\n",
    "Sea la reacción:\n",
    "\n",
    "$$\n",
    "A + B \\overset{k}{\\rightarrow} 2B\n",
    "$$\n",
    "\n",
    "Con cinética de reacción:\n",
    "\n",
    "$$\n",
    "r_{A} = \\frac{dA}{dt} = -kC_{A}C_{B}\n",
    "$$\n",
    "\n",
    "Para simplificar, graficaremos numéricamente:\n",
    "\n",
    "$$\n",
    "C_{A, i+1} = C_{A, i} + r_{A} \\Delta t = C_{A, i} - kC_{A, i}C_{B, i} \\Delta t\n",
    "$$\n",
    "\n",
    "$$\n",
    "C_{B, i + 1} = C_{B, i} - 2 \\cdot r_{A} \\Delta t = C_{B, i} + 2 \\cdot kC_{A, i}C_{B, i} \\Delta t\n",
    "$$"
   ]
  },
  {
   "cell_type": "code",
   "execution_count": 28,
   "id": "raised-multimedia",
   "metadata": {
    "ExecuteTime": {
     "end_time": "2021-10-30T03:40:27.892241Z",
     "start_time": "2021-10-30T03:40:27.874244Z"
    }
   },
   "outputs": [],
   "source": [
    "# Datos\n",
    "\n",
    "C_A0 = 1  # M\n",
    "C_B0 = 0.01  # M\n",
    "k = 1\n",
    "DELTA_T = 0.001\n",
    "\n",
    "\n",
    "def step(c_a, c_b, t):\n",
    "    t += DELTA_T\n",
    "    c_a -= k * c_a * c_b * DELTA_T\n",
    "    c_b += 2 * k * c_a * c_b * DELTA_T\n",
    "    return c_a, c_b, t"
   ]
  },
  {
   "cell_type": "code",
   "execution_count": 35,
   "id": "valuable-commodity",
   "metadata": {
    "ExecuteTime": {
     "end_time": "2021-10-30T03:41:03.226560Z",
     "start_time": "2021-10-30T03:41:03.204578Z"
    }
   },
   "outputs": [],
   "source": [
    "C_A = [C_A0]\n",
    "C_B = [C_B0]\n",
    "T = [0]"
   ]
  },
  {
   "cell_type": "code",
   "execution_count": 36,
   "id": "actual-consistency",
   "metadata": {
    "ExecuteTime": {
     "end_time": "2021-10-30T03:41:03.739198Z",
     "start_time": "2021-10-30T03:41:03.710200Z"
    }
   },
   "outputs": [],
   "source": [
    "# Numero de iteraciones\n",
    "N = int(5e3)\n",
    "\n",
    "for _ in range(N):\n",
    "    values = step(C_A[-1], C_B[-1], T[-1])\n",
    "    C_A.append(values[0])\n",
    "    C_B.append(values[1])\n",
    "    T.append(values[2])"
   ]
  },
  {
   "cell_type": "code",
   "execution_count": 40,
   "id": "moved-permit",
   "metadata": {
    "ExecuteTime": {
     "end_time": "2021-10-30T03:44:15.981517Z",
     "start_time": "2021-10-30T03:44:15.670520Z"
    }
   },
   "outputs": [
    {
     "data": {
      "image/png": "[encoded data removed]",
      "text/plain": [
       "<Figure size 720x432 with 1 Axes>"
      ]
     },
     "metadata": {
      "needs_background": "light"
     },
     "output_type": "display_data"
    }
   ],
   "source": [
    "fig, ax = plt.subplots(figsize=(10, 6))\n",
    "\n",
    "ax.plot(T, C_A, label=\"[A]\")\n",
    "ax.plot(T, C_B, label=\"[B]\")\n",
    "\n",
    "ax.set_xlim(T[0], T[-1])\n",
    "ax.set_ylim(0, C_B[-1] + 0.1)\n",
    "\n",
    "ax.set_xlabel(\"tiempo [s]\", fontsize=14)\n",
    "ax.set_ylabel(\"Concentración [M]\", fontsize=14)\n",
    "\n",
    "ax.legend(fontsize=16)\n",
    "\n",
    "fig.savefig(os.path.join(FOLDER, \"autocatalitica_simple.png\"))"
   ]
  },
  {
   "cell_type": "markdown",
   "id": "realistic-crystal",
   "metadata": {},
   "source": [
    "## Creciemto celular\n",
    "\n",
    "Usando:\n",
    "\n",
    "$$\n",
    "\\frac{dX}{dt} = \\mu X\n",
    "$$\n",
    "\n",
    "Numéricamente:\n",
    "\n",
    "$$\n",
    "X_{i+1} = X_{i} + \\frac{dX}{dt} \\Delta t = X_{i} + \\mu X_{i} \\Delta t\n",
    "$$"
   ]
  },
  {
   "cell_type": "code",
   "execution_count": 153,
   "id": "approximate-guarantee",
   "metadata": {
    "ExecuteTime": {
     "end_time": "2021-10-30T03:59:50.733944Z",
     "start_time": "2021-10-30T03:59:50.718943Z"
    }
   },
   "outputs": [],
   "source": [
    "# Datos\n",
    "\n",
    "X_0 = 0.01  # g/L\n",
    "mu = 0.1  # 1/min\n",
    "DELTA_T = 0.01"
   ]
  },
  {
   "cell_type": "markdown",
   "id": "quick-glass",
   "metadata": {},
   "source": [
    "Esta vez fijamos un límite de crecimiento a los $200 \\left [ \\frac{g}{L} \\right ]$. Este límite es mucho más suave, pero para simplificar será abrupto."
   ]
  },
  {
   "cell_type": "code",
   "execution_count": 154,
   "id": "premier-stress",
   "metadata": {
    "ExecuteTime": {
     "end_time": "2021-10-30T03:59:51.343927Z",
     "start_time": "2021-10-30T03:59:51.325890Z"
    }
   },
   "outputs": [],
   "source": [
    "def step(x, t):\n",
    "    t += DELTA_T\n",
    "    x = min(x + mu * x * DELTA_T, 200)\n",
    "    return x, t"
   ]
  },
  {
   "cell_type": "code",
   "execution_count": 155,
   "id": "animal-photographer",
   "metadata": {
    "ExecuteTime": {
     "end_time": "2021-10-30T03:59:51.643600Z",
     "start_time": "2021-10-30T03:59:51.627585Z"
    }
   },
   "outputs": [],
   "source": [
    "X = [X_0]\n",
    "T = [0]"
   ]
  },
  {
   "cell_type": "code",
   "execution_count": 156,
   "id": "worst-senegal",
   "metadata": {
    "ExecuteTime": {
     "end_time": "2021-10-30T03:59:52.081168Z",
     "start_time": "2021-10-30T03:59:52.035170Z"
    }
   },
   "outputs": [],
   "source": [
    "# Numero de iteraciones\n",
    "N = int(2e4)\n",
    "\n",
    "for _ in range(N):\n",
    "    values = step(X[-1], T[-1])\n",
    "    X.append(values[0])\n",
    "    T.append(values[1])"
   ]
  },
  {
   "cell_type": "code",
   "execution_count": 157,
   "id": "allied-relative",
   "metadata": {
    "ExecuteTime": {
     "end_time": "2021-10-30T03:59:53.006609Z",
     "start_time": "2021-10-30T03:59:52.700605Z"
    }
   },
   "outputs": [
    {
     "data": {
      "image/png": "[encoded data removed]",
      "text/plain": [
       "<Figure size 720x432 with 1 Axes>"
      ]
     },
     "metadata": {
      "needs_background": "light"
     },
     "output_type": "display_data"
    }
   ],
   "source": [
    "fig, ax = plt.subplots(figsize=(10, 6))\n",
    "\n",
    "ax.plot(T, X, label=\"[A]\", color=\"green\")\n",
    "\n",
    "ax.set_xlim(T[0], T[-1])\n",
    "ax.set_ylim(0, X[-1] + 10)\n",
    "\n",
    "ax.set_xlabel(\"tiempo [min]\", fontsize=14)\n",
    "ax.set_ylabel(\"Concentración celular [g/L]\", fontsize=14)\n",
    "\n",
    "ax.legend(fontsize=16)\n",
    "\n",
    "fig.savefig(os.path.join(FOLDER, \"crecimiento_celular.png\"))"
   ]
  },
  {
   "cell_type": "code",
   "execution_count": null,
   "id": "digital-finder",
   "metadata": {},
   "outputs": [],
   "source": []
  }
 ],
 "metadata": {
  "kernelspec": {
   "display_name": "Python 3",
   "language": "python",
   "name": "python3"
  },
  "language_info": {
   "codemirror_mode": {
    "name": "ipython",
    "version": 3
   },
   "file_extension": ".py",
   "mimetype": "text/x-python",
   "name": "python",
   "nbconvert_exporter": "python",
   "pygments_lexer": "ipython3",
   "version": "3.9.2"
  }
 },
 "nbformat": 4,
 "nbformat_minor": 5
}
